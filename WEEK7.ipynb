{
  "nbformat": 4,
  "nbformat_minor": 0,
  "metadata": {
    "colab": {
      "provenance": []
    },
    "kernelspec": {
      "name": "python3",
      "display_name": "Python 3"
    },
    "language_info": {
      "name": "python"
    }
  },
  "cells": [
    {
      "cell_type": "code",
      "execution_count": null,
      "metadata": {
        "id": "waWjphZOjGTx"
      },
      "outputs": [],
      "source": [
        "plt.scatter(x1,y)\n",
        "plt.xlalel('SAT', fontsize = 20)\n",
        "plt.ylabel('GPA', fontsize = 20)\n",
        "plt.show()\n"
      ]
    },
    {
      "cell_type": "code",
      "source": [
        "import pandas as pd\n",
        "import numpy as np\n",
        "import matplotlib.pyplot as plt\n",
        "\n",
        "url = '1.01. Simple linear regression.csv'\n",
        "data = pd.read_csv(url)\n",
        "x1 = data['SAT']\n",
        "y = data['GPA']\n",
        "\n",
        "plt.scatter(x1,y)\n",
        "plt.xlabel('SAT',fontsize = 20)\n",
        "plt.ylabel('GPA',fontsize = 20)\n",
        "plt.show()\n",
        "data.hist()\n",
        "plt.show()\n",
        "\n",
        "correlation = data.corr()\n",
        "print(correlation)\n"
      ],
      "metadata": {
        "id": "Cr75P6VHj2hu"
      },
      "execution_count": null,
      "outputs": []
    },
    {
      "cell_type": "code",
      "source": [
        "#Three lines to make our compiler able to draw:\n",
        "import sys\n",
        "import matplotlib\n",
        "matplotlib.use('Agg')\n",
        "\n",
        "import matplotlib.pyplot as plt\n",
        "from scipy import stats\n",
        "\n",
        "x = [5,7,8,7,2,17,2,9,4,11,12,9,6]\n",
        "y = [99,86,87,88,111,86,103,87,94,78,77,85,86]\n",
        "\n",
        "slope, intercept, r, p, std_err = stats.linregress(x, y)\n",
        "\n",
        "def myfunc(x):\n",
        "  return slope * x + intercept\n",
        "\n",
        "mymodel = list(map(myfunc, x))\n",
        "\n",
        "plt.scatter(x, y)\n",
        "plt.plot(x, mymodel)\n",
        "plt.show()\n",
        "\n",
        "#Two  lines to make our compiler able to draw:\n",
        "plt.savefig(sys.stdout.buffer)\n",
        "sys.stdout.flush()"
      ],
      "metadata": {
        "id": "IZDsvRZxmZB6"
      },
      "execution_count": null,
      "outputs": []
    },
    {
      "cell_type": "code",
      "source": [
        "import pandas as pd\n",
        "import numpy as np\n",
        "import matplotlib.pyplot as plt\n",
        "\n",
        "url = 'mtcars.csv'\n",
        "data = pd.read_csv(url)\n",
        "\n",
        "correlation = data.corr()\n",
        "print(correlation)\n",
        "\n",
        "X = data.drop(data.columns[[0,2]], axis = 1)\n",
        "data.plot(kind = 'scatter', x ='wt', y = 'mpg', figsize = (9, 9), color = 'black')\n"
      ],
      "metadata": {
        "id": "JhPs1C5koyxT"
      },
      "execution_count": null,
      "outputs": []
    },
    {
      "cell_type": "code",
      "source": [
        "from sklearn import linear_model\n",
        "import pandas as pd\n",
        "import numpy as np\n",
        "import matplotlib.pyplot as plt\n",
        "\n",
        "url = 'mtcars.csv'\n",
        "data = pd.read_csv(url)\n",
        "model = linear_model.LinearRegression()\n",
        "model.fit(X = pd.DataFrame(data['wt']), y = data['mpg'])\n",
        "print(model.intercept_)\n",
        "print(model.coef_)"
      ],
      "metadata": {
        "colab": {
          "base_uri": "https://localhost:8080/"
        },
        "id": "GHuoYUFJsNwd",
        "outputId": "923d50b0-b011-4dcd-d1d2-b5c9cec5e44e"
      },
      "execution_count": null,
      "outputs": [
        {
          "output_type": "stream",
          "name": "stdout",
          "text": [
            "37.28512616734204\n",
            "[-5.34447157]\n"
          ]
        }
      ]
    },
    {
      "cell_type": "code",
      "source": [
        "from sklearn import linear_model\n",
        "import pandas as pd\n",
        "import numpy as np\n",
        "import matplotlib.pyplot as plt\n",
        "\n",
        "url = 'mtcars.csv'\n",
        "data = pd.read_csv(url)\n",
        "model = linear_model.LinearRegression()\n",
        "X=pd.DataFrame(data['wt'])\n",
        "y=data['mpg']\n",
        "model.score(X,y)\n",
        "y_p = model.predict(X)\n",
        "residical = data['mpg']-y_p\n",
        "residical.describe()\n",
        "data.plot(kind = 'scatter', x = 'wt', y = 'mpg', figsize = (9, 9),color = 'orange')\n",
        "plt.plot(data['wt'],y_pred,color='blue')\n"
      ],
      "metadata": {
        "id": "QXfaw97duP1I"
      },
      "execution_count": null,
      "outputs": []
    },
    {
      "cell_type": "code",
      "source": [
        "from sklearn.linear_model import LinearRegression\n",
        "import pandas as pd\n",
        "import numpy as np\n",
        "import matplotlib.pyplot as plt\n",
        "\n",
        "url = 'mtcars.csv'\n",
        "data = pd.read_csv(url)\n",
        "\n",
        "model = LinearRegression()\n",
        "model.fit(X=pd.DataFrame(data['wt']), y=data['mpg'])\n",
        "\n",
        "score = model.score(X=pd.DataFrame(data['wt']), y=data['mpg'])\n",
        "print(\"R-squared:\", score)\n",
        "\n",
        "y_pred = model.predict(X=pd.DataFrame(data['wt']))\n",
        "residuals = data['mpg'] - y_pred\n"
      ],
      "metadata": {
        "colab": {
          "base_uri": "https://localhost:8080/"
        },
        "id": "riMiHQFAwuJL",
        "outputId": "47a0e414-c7f5-4ded-9aee-96e87a89395d"
      },
      "execution_count": null,
      "outputs": [
        {
          "output_type": "stream",
          "name": "stdout",
          "text": [
            "R-squared: 0.7528327936582646\n"
          ]
        }
      ]
    },
    {
      "cell_type": "code",
      "source": [
        "from sklearn import linear_model\n",
        "import pandas as pd\n",
        "import numpy as np\n",
        "import matplotlib.pyplot as plt\n",
        "\n",
        "url = 'mtcars.csv'\n",
        "data = pd.read_csv(url)\n",
        "model = linear_model.LinearRegression()\n",
        "X = pd.DataFrame([data['wt'], data['wt']**2]).T\n",
        "y = data['mpg']\n",
        "model.fit(X, y = data['mpg'])\n",
        "print('Intercept của hình bậc 2')\n",
        "print(model.intercept_)\n",
        "print('Coeffient của hình bậc 2')\n",
        "print(model.coef_)\n",
        "print('Độ chính xác của mô hình')\n",
        "print(model.score(X, y))"
      ],
      "metadata": {
        "colab": {
          "base_uri": "https://localhost:8080/"
        },
        "id": "PnKMvFP7ynxZ",
        "outputId": "62642155-8faf-4ab3-b7fa-1e5402d63a8c"
      },
      "execution_count": null,
      "outputs": [
        {
          "output_type": "stream",
          "name": "stdout",
          "text": [
            "Intercept của hình bậc 2\n",
            "49.93081094945181\n",
            "Coeffient của hình bậc 2\n",
            "[-13.38033708   1.17108689]\n",
            "Độ chính xác của mô hình\n",
            "0.8190613581384094\n"
          ]
        }
      ]
    },
    {
      "cell_type": "code",
      "source": [
        "vange = np.arange(1.5, 5.5, 0.1)\n",
        "predictor = pd.DataFrame([vange, vange**2]).T\n",
        "y_p = model.predict(X = predictor)\n",
        "data.plot(kind = 'scatter', x = 'wt', y = 'mpg', figsize = (9,9), color = 'black', xlim = (0, 7))\n",
        "plt.plot(vange, y_p, color = 'blue')"
      ],
      "metadata": {
        "id": "gB3PejUw1Rmz"
      },
      "execution_count": null,
      "outputs": []
    },
    {
      "cell_type": "code",
      "source": [
        "from sklearn.linear_model import LinearRegression\n",
        "from sklearn.preprocessing import PolynomialFeatures\n",
        "import pandas as pd\n",
        "import numpy as np\n",
        "import matplotlib.pyplot as plt\n",
        "\n",
        "# Load the data from the URL\n",
        "url = 'mtcars.csv'\n",
        "data = pd.read_csv(url)\n",
        "\n",
        "# Create a polynomial regression model and fit it to the data\n",
        "degree = 10\n",
        "poly_features = PolynomialFeatures(degree=degree)\n",
        "X_poly = poly_features.fit_transform(X=pd.DataFrame(data['wt']))\n",
        "model = LinearRegression()\n",
        "model.fit(X=X_poly, y=data['mpg'])\n",
        "\n",
        "# Generate some new data to make predictions on\n",
        "vange = np.arange(1.5, 5.5, 0.1)\n",
        "predictor = pd.DataFrame({'wt': vange})\n",
        "predictor_poly = poly_features.transform(predictor)\n",
        "\n",
        "# Use the model to make predictions on the new data\n",
        "y_pred = model.predict(X=predictor_poly)\n",
        "\n",
        "# Plot the original data and the regression line\n",
        "data.plot(kind='scatter', x='wt', y='mpg', figsize=(9,9), color='black', xlim=(0, 7))\n",
        "plt.plot(vange, y_pred, color='blue')\n",
        "plt.show()\n"
      ],
      "metadata": {
        "id": "6EdLknPv4PGx"
      },
      "execution_count": null,
      "outputs": []
    },
    {
      "cell_type": "markdown",
      "source": [
        "# New Section"
      ],
      "metadata": {
        "id": "_SlY7pdX8XRO"
      }
    },
    {
      "cell_type": "code",
      "source": [
        "from sklearn.preprocessing import PolynomialFeatures\n",
        "from sklearn.linear_model import LinearRegression\n",
        "\n",
        "# Load data\n",
        "url = 'mtcars.csv'\n",
        "data = pd.read_csv(url)\n",
        "\n",
        "# Create polynomial features\n",
        "poly = PolynomialFeatures(3)\n",
        "X_poly = poly.fit_transform(data[['wt']])\n",
        "y = data['mpg']\n",
        "\n",
        "# Train linear regression model\n",
        "model = LinearRegression()\n",
        "model.fit(X_poly, y)\n",
        "\n",
        "# Predict on new data\n",
        "x_new = np.linspace(data['wt'].min(), data['wt'].max(), 100)\n",
        "x_new_poly = poly.fit_transform(x_new.reshape(-1, 1))\n",
        "y_new = model.predict(x_new_poly)\n",
        "\n",
        "# Plot the results\n",
        "plt.figure(figsize=(9,9))\n",
        "plt.scatter(data['wt'], y, color='black')\n",
        "plt.plot(x_new, y_new, color='blue')\n",
        "plt.title('Polynomial Regression - Degree 3')\n",
        "plt.xlabel('Weight (lbs/1000)')\n",
        "plt.ylabel('Miles per gallon (mpg)')\n",
        "plt.xlim(1, 6)\n",
        "plt.ylim(0, 35)\n",
        "plt.show()\n",
        " #bậc 3"
      ],
      "metadata": {
        "id": "Fp-jpH6u5M5v"
      },
      "execution_count": null,
      "outputs": []
    },
    {
      "cell_type": "code",
      "source": [
        "from sklearn.preprocessing import PolynomialFeatures\n",
        "from sklearn.linear_model import LinearRegression\n",
        "\n",
        "# Load data\n",
        "url = 'mtcars.csv'\n",
        "data = pd.read_csv(url)\n",
        "\n",
        "# Create polynomial features\n",
        "poly = PolynomialFeatures(4)\n",
        "X_poly = poly.fit_transform(data[['wt']])\n",
        "y = data['mpg']\n",
        "\n",
        "# Train linear regression model\n",
        "model = LinearRegression()\n",
        "model.fit(X_poly, y)\n",
        "\n",
        "# Predict on new data\n",
        "x_new = np.linspace(data['wt'].min(), data['wt'].max(), 100)\n",
        "x_new_poly = poly.fit_transform(x_new.reshape(-1, 1))\n",
        "y_new = model.predict(x_new_poly)\n",
        "\n",
        "# Plot the results\n",
        "plt.figure(figsize=(9,9))\n",
        "plt.scatter(data['wt'], y, color='black')\n",
        "plt.plot(x_new, y_new, color='blue')\n",
        "plt.title('Polynomial Regression - Degree 4')\n",
        "plt.xlabel('Weight (lbs/1000)')\n",
        "plt.ylabel('Miles per gallon (mpg)')\n",
        "plt.xlim(1, 6)\n",
        "plt.ylim(0, 35)\n",
        "plt.show()\n",
        "#Bậc 4"
      ],
      "metadata": {
        "id": "Ht_AotCK5QL7"
      },
      "execution_count": null,
      "outputs": []
    },
    {
      "cell_type": "code",
      "source": [
        "from sklearn.preprocessing import PolynomialFeatures\n",
        "from sklearn.linear_model import LinearRegression\n",
        "\n",
        "# Load data\n",
        "url = 'mtcars.csv'\n",
        "data = pd.read_csv(url)\n",
        "\n",
        "# Create polynomial features\n",
        "poly = PolynomialFeatures(5)\n",
        "X_poly = poly.fit_transform(data[['wt']])\n",
        "y = data['mpg']\n",
        "\n",
        "# Train linear regression model\n",
        "model = LinearRegression()\n",
        "model.fit(X_poly, y)\n",
        "\n",
        "# Predict on new data\n",
        "x_new = np.linspace(data['wt'].min(), data['wt'].max(), 100)\n",
        "x_new_poly = poly.fit_transform(x_new.reshape(-1, 1))\n",
        "y_new = model.predict(x_new_poly)\n",
        "\n",
        "# Plot the results\n",
        "plt.figure(figsize=(9,9))\n",
        "plt.scatter(data['wt'], y, color='black')\n",
        "plt.plot(x_new, y_new, color='blue')\n",
        "plt.title('Polynomial Regression - Degree 5')\n",
        "plt.xlabel('Weight (lbs/1000)')\n",
        "plt.ylabel('Miles per gallon (mpg)')\n",
        "plt.xlim(1, 6)\n",
        "plt.ylim(0, 35)\n",
        "#bậc 5"
      ],
      "metadata": {
        "id": "RpX-3Fbh5XKV"
      },
      "execution_count": null,
      "outputs": []
    },
    {
      "cell_type": "code",
      "source": [
        "from sklearn.preprocessing import PolynomialFeatures\n",
        "from sklearn.linear_model import LinearRegression\n",
        "\n",
        "# Load data\n",
        "url = 'mtcars.csv'\n",
        "data = pd.read_csv(url)\n",
        "\n",
        "# Create polynomial features\n",
        "poly = PolynomialFeatures(6)\n",
        "X_poly = poly.fit_transform(data[['wt']])\n",
        "y = data['mpg']\n",
        "\n",
        "# Train linear regression model\n",
        "model = LinearRegression()\n",
        "model.fit(X_poly, y)\n",
        "\n",
        "# Predict on new data\n",
        "x_new = np.linspace(data['wt'].min(), data['wt'].max(), 100)\n",
        "x_new_poly = poly.fit_transform(x_new.reshape(-1, 1))\n",
        "y_new = model.predict(x_new_poly)\n",
        "\n",
        "# Plot the results\n",
        "plt.figure(figsize=(9,9))\n",
        "plt.scatter(data['wt'], y, color='black')\n",
        "plt.plot(x_new, y_new, color='blue')\n",
        "plt.title('Polynomial Regression - Degree 6')\n",
        "plt.xlabel('Weight (lbs/1000)')\n",
        "plt.ylabel('Miles per gallon (mpg)')\n",
        "plt.xlim(1, 6)\n",
        "plt.ylim(0, 35)\n",
        "plt.show()\n",
        "#bậc 6"
      ],
      "metadata": {
        "id": "cJWrX9_05ccZ"
      },
      "execution_count": null,
      "outputs": []
    },
    {
      "cell_type": "code",
      "source": [
        "from sklearn.preprocessing import PolynomialFeatures\n",
        "from sklearn.linear_model import LinearRegression\n",
        "\n",
        "# Load data\n",
        "url = 'mtcars.csv'\n",
        "data = pd.read_csv(url)\n",
        "\n",
        "# Create polynomial features\n",
        "poly = PolynomialFeatures(7)\n",
        "X_poly = poly.fit_transform(data[['wt']])\n",
        "y = data['mpg']\n",
        "\n",
        "# Train linear regression model\n",
        "model = LinearRegression()\n",
        "model.fit(X_poly, y)\n",
        "\n",
        "# Predict on new data\n",
        "x_new = np.linspace(data['wt'].min(), data['wt'].max(), 100)\n",
        "x_new_poly = poly.fit_transform(x_new.reshape(-1, 1))\n",
        "y_new = model.predict(x_new_poly)\n",
        "\n",
        "# Plot the results\n",
        "plt.figure(figsize=(9,9))\n",
        "plt.scatter(data['wt'], y, color='black')\n",
        "plt.plot(x_new, y_new, color='blue')\n",
        "plt.title('Polynomial Regression - Degree 7')\n",
        "plt.xlabel('Weight (lbs/1000)')\n",
        "plt.ylabel('Miles per gallon (mpg)')\n",
        "plt.xlim(1, 6)\n",
        "plt.ylim(0, 35)\n",
        "plt.show()\n",
        "#Bậc 7"
      ],
      "metadata": {
        "id": "oq1c0Mjd51Nd"
      },
      "execution_count": null,
      "outputs": []
    },
    {
      "cell_type": "code",
      "source": [
        "from sklearn.preprocessing import PolynomialFeatures\n",
        "from sklearn.linear_model import LinearRegression\n",
        "\n",
        "# Load data\n",
        "url = 'mtcars.csv'\n",
        "data = pd.read_csv(url)\n",
        "\n",
        "# Create polynomial features\n",
        "poly = PolynomialFeatures(8)\n",
        "X_poly = poly.fit_transform(data[['wt']])\n",
        "y = data['mpg']\n",
        "\n",
        "# Train linear regression model\n",
        "model = LinearRegression()\n",
        "model.fit(X_poly, y)\n",
        "\n",
        "# Predict on new data\n",
        "x_new = np.linspace(data['wt'].min(), data['wt'].max(), 100)\n",
        "x_new_poly = poly.fit_transform(x_new.reshape(-1, 1))\n",
        "y_new = model.predict(x_new_poly)\n",
        "\n",
        "# Plot the results\n",
        "plt.figure(figsize=(9,9))\n",
        "plt.scatter(data['wt'], y, color='black')\n",
        "plt.plot(x_new, y_new, color='blue')\n",
        "plt.title('Polynomial Regression - Degree 8')\n",
        "plt.xlabel('Weight (lbs/1000)')\n",
        "plt.ylabel('Miles per gallon (mpg)')\n",
        "plt.xlim(1, 6)\n",
        "plt.ylim(0, 35)\n",
        "plt.show()\n"
      ],
      "metadata": {
        "id": "O_TYZoDz546b"
      },
      "execution_count": null,
      "outputs": []
    },
    {
      "cell_type": "code",
      "source": [
        "# Load data\n",
        "url = 'mtcars.csv'\n",
        "data = pd.read_csv(url)\n",
        "\n",
        "# Create new features\n",
        "for i in range(3, 10):\n",
        "    data[f'wt_{i}'] = data['wt'] ** i\n",
        "\n",
        "# Prepare data\n",
        "X = data.drop(['mpg'], axis=1)\n",
        "y = data['mpg']\n",
        "\n",
        "# Train linear regression model\n",
        "model = LinearRegression()\n",
        "model.fit(X, y)\n",
        "\n",
        "# Predict on new data\n",
        "x_new = np.linspace(data['wt'].min(), data['wt'].max(), 100)\n",
        "x_new_features = pd.DataFrame({f'wt_{i}': x_new ** i for i in range(3, 10)})\n",
        "y_new = model.predict(x_new_features)\n",
        "\n",
        "# Plot the results\n",
        "plt.figure(figsize=(9,9))\n",
        "plt.scatter(data['wt'], y, color='black')\n",
        "plt.plot(x_new, y_new, color='blue')\n",
        "plt.title('Polynomial Regression - Degree 9 (without PolynomialFeatures)')\n",
        "plt.xlabel('Weight (lbs/1000)')\n",
        "plt.ylabel('Miles per gallon (mpg)')\n",
        "plt.xlim(1, 6)\n",
        "plt.ylim(0, 35)\n",
        "plt.show()\n"
      ],
      "metadata": {
        "id": "_TQtfNvR-nXD"
      },
      "execution_count": null,
      "outputs": []
    },
    {
      "cell_type": "code",
      "source": [
        "from sklearn.preprocessing import PolynomialFeatures\n",
        "from sklearn.linear_model import LinearRegression\n",
        "\n",
        "# Load data\n",
        "url = 'mtcars.csv'\n",
        "data = pd.read_csv(url)\n",
        "\n",
        "# Create polynomial features\n",
        "X = data[['wt']]\n",
        "y = data['mpg']\n",
        "\n",
        "for degree in range(3, 10):\n",
        "    # Create polynomial features\n",
        "    poly = PolynomialFeatures(degree)\n",
        "    X_poly = poly.fit_transform(X)\n",
        "\n",
        "    # Train linear regression model\n",
        "    model = LinearRegression()\n",
        "    model.fit(X_poly, y)\n",
        "\n",
        "    # Predict on new data\n",
        "    x_new = np.linspace(X.min(), X.max(), 100)\n",
        "    x_new_poly = poly.fit_transform(x_new.reshape(-1, 1))\n",
        "    y_new = model.predict(x_new_poly)\n",
        "\n",
        "    # Plot the results\n",
        "    plt.figure(figsize=(9,9))\n",
        "    plt.scatter(X, y, color='black')\n",
        "    plt.plot(x_new, y_new, color='blue')\n",
        "    plt.title('Polynomial Regression - Degree {}'.format(degree))\n",
        "    plt.xlabel('Weight (lbs/1000)')\n",
        "    plt.ylabel('Miles per gallon (mpg)')\n",
        "    plt.xlim(1, 6)\n",
        "    plt.ylim(0, 35)\n",
        "    plt.show()\n"
      ],
      "metadata": {
        "id": "I2IudN0i-owj"
      },
      "execution_count": null,
      "outputs": []
    },
    {
      "cell_type": "code",
      "source": [
        "import numpy as np\n",
        "import matplotlib.pyplot as plt\n",
        "import pandas as pd\n",
        "import seaborn as sas\n",
        "data = pd.read_csv('50_Startups.csv')\n",
        "data.head()\n",
        "\n",
        "sas.pairplot(data)\n",
        "\n",
        "corr = data.corr()\n",
        "sas.heatmap(corr,annot=True)\n",
        "\n",
        "X = data.drop('Profit',axis=True)\n",
        "y=data['Profit']\n",
        "X.head()"
      ],
      "metadata": {
        "id": "NZLC5lK4-3s5"
      },
      "execution_count": null,
      "outputs": []
    },
    {
      "cell_type": "code",
      "source": [
        "import numpy as np\n",
        "import matplotlib.pyplot as plt\n",
        "import pandas as pd\n",
        "import seaborn as sas\n",
        "data = pd.read_csv('50_Startups.csv')\n",
        "data.head()\n",
        "\n",
        "sas.pairplot(data)\n",
        "\n",
        "corr = data.corr()\n",
        "sas.heatmap(corr,annot=True)\n",
        "\n",
        "X = data.drop('Profit',axis=True)\n",
        "y=data['Profit']\n",
        "X.head()\n",
        "import numpy as np\n",
        "import matplotlib.pyplot as plt\n",
        "import pandas as pd\n",
        "import seaborn as sas\n",
        "data = pd.read_csv('Startups.csv')\n",
        "data.head()\n",
        "sas.pairplot(data)\n",
        "orr = data.corr()\n",
        "sas.heatmap(corr, annot= True)\n",
        "X = data.drop('Profit', axis = True)\n",
        "X = data.drop('State', axis = True)\n",
        "y = data['Profit']\n",
        "X.head()\n",
        "from sklearn.preprocessing import StandardScaler\n",
        "SC = StandardScaler()\n",
        "X = SC.fit_transform(X)\n",
        "from sklearn.model_selection import train_test_split\n",
        "X_train, X_test, y_train, y_test = train_test_split(X, y, test_size=0.2, random_state=0)\n",
        "X_train.shape\n",
        "X_test.shape\n",
        "y_train.shape\n",
        "y_test.shape\n",
        "from sklearn.linear_model import LinearRegression\n",
        "regression = LinearRegression()\n",
        "regression.fit(X_train, y_train)\n",
        "y_pred =  regression.predict(X_test).round(1)\n",
        "colculatinon = pd.DataFrame(np.c_[y_test,y_pred],columns=['Original Profit','Predictor Profit'])"
      ],
      "metadata": {
        "id": "T_VWYJFtEBLn"
      },
      "execution_count": null,
      "outputs": []
    },
    {
      "cell_type": "code",
      "source": [],
      "metadata": {
        "id": "BNQN236sGmo9"
      },
      "execution_count": null,
      "outputs": []
    }
  ]
}